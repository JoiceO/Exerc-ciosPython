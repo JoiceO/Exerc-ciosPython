{
 "cells": [
  {
   "cell_type": "markdown",
   "metadata": {
    "id": "CYNAmoj4zSXl"
   },
   "source": [
    "Crie um algoritmo em Python que mostre a mensagem \"Alo mundo\" na tela."
   ]
  },
  {
   "cell_type": "code",
   "execution_count": 1,
   "metadata": {
    "colab": {
     "base_uri": "https://localhost:8080/"
    },
    "id": "ViAfpy3GzPN-",
    "outputId": "ce9aadaa-9977-40ea-f846-497850a4e3f4"
   },
   "outputs": [
    {
     "name": "stdout",
     "output_type": "stream",
     "text": [
      "Alo mundo\n"
     ]
    }
   ],
   "source": [
    "a = \"Alo mundo\"\n",
    "print(a)"
   ]
  },
  {
   "cell_type": "markdown",
   "metadata": {
    "id": "gdMis92izSmQ"
   },
   "source": [
    "Crie um algoritmo em Python que peça dois números e imprima a soma."
   ]
  },
  {
   "cell_type": "code",
   "execution_count": 2,
   "metadata": {
    "colab": {
     "base_uri": "https://localhost:8080/"
    },
    "id": "BFpWkdCBz_zh",
    "outputId": "6fb95722-9a4b-4c19-d6ca-1cf784946f30"
   },
   "outputs": [
    {
     "name": "stdout",
     "output_type": "stream",
     "text": [
      "Digite um número: 5\n",
      "Digite outro número: 2\n",
      "7\n"
     ]
    }
   ],
   "source": [
    "a = int(input(\"Digite um número: \"))\n",
    "b = int(input(\"Digite outro número: \"))\n",
    "soma = a + b\n",
    "print(soma)"
   ]
  },
  {
   "cell_type": "markdown",
   "metadata": {
    "id": "E_0l_Vx6zSo2"
   },
   "source": [
    "Crie um algoritmo em Python que peça um número e então mostre a mensagem O número informado foi [número]."
   ]
  },
  {
   "cell_type": "code",
   "execution_count": 7,
   "metadata": {
    "colab": {
     "base_uri": "https://localhost:8080/"
    },
    "id": "KwJf7XZS0AZW",
    "outputId": "4451f98a-eb92-4112-dc33-414436e0c6d3"
   },
   "outputs": [
    {
     "name": "stdout",
     "output_type": "stream",
     "text": [
      "Digite um número: 11\n",
      "O número informado foi 11\n"
     ]
    }
   ],
   "source": [
    "a = int(input(\"Digite um número: \"))\n",
    "b = 'O número informado foi '\n",
    "c = str(a)\n",
    "print (b+c)"
   ]
  },
  {
   "cell_type": "markdown",
   "metadata": {
    "id": "1i4VCiiczSrL"
   },
   "source": [
    "Crie um algoritmo em Python que converta metros para centímetros."
   ]
  },
  {
   "cell_type": "code",
   "execution_count": 12,
   "metadata": {
    "colab": {
     "base_uri": "https://localhost:8080/"
    },
    "id": "yoW67hjA0BHy",
    "outputId": "dd014768-1ae0-4ace-bcfd-a40b81a134f4"
   },
   "outputs": [
    {
     "name": "stdout",
     "output_type": "stream",
     "text": [
      "Digite a medida em metros: 550\n",
      "A medida equivale a 55000 centímetros\n"
     ]
    }
   ],
   "source": [
    "a = int(input('Digite a medida em metros: '))\n",
    "b = a*100\n",
    "print(\"A medida equivale a {} centímetros\".format(b))"
   ]
  },
  {
   "cell_type": "markdown",
   "metadata": {
    "id": "4ep7kezvzStO"
   },
   "source": [
    "Crie um algoritmo em Python que peça as 4 notas bimestrais e mostre a média."
   ]
  },
  {
   "cell_type": "code",
   "execution_count": 13,
   "metadata": {
    "colab": {
     "base_uri": "https://localhost:8080/"
    },
    "id": "6K6IHWdr0Blt",
    "outputId": "fab5653d-1653-4986-c04f-1d01e9c3a127"
   },
   "outputs": [
    {
     "name": "stdout",
     "output_type": "stream",
     "text": [
      "Digite a nota do 1º bimestre: 5.8\n",
      "Digite a nota do 2º bimestre: 8.1\n",
      "Digite a nota do 3º bimestre: 9.0\n",
      "Digite a nota do 4º bimestre: 10.0\n",
      "A média final é de 8.225\n"
     ]
    }
   ],
   "source": [
    "nota1 = float(input('Digite a nota do 1º bimestre: '))\n",
    "nota2 = float(input('Digite a nota do 2º bimestre: '))\n",
    "nota3 = float(input('Digite a nota do 3º bimestre: '))\n",
    "nota4 = float(input('Digite a nota do 4º bimestre: '))\n",
    "media = ((nota1+nota2+nota3+nota4)/4)\n",
    "print('A média final é de {}'.format(media))"
   ]
  },
  {
   "cell_type": "markdown",
   "metadata": {
    "id": "u6__NaXqzeYg"
   },
   "source": [
    "Crie um algoritmo em Python que peça o raio de um círculo, calcule e mostre sua área."
   ]
  },
  {
   "cell_type": "code",
   "execution_count": 7,
   "metadata": {
    "colab": {
     "base_uri": "https://localhost:8080/"
    },
    "id": "mm2L7g3x0Cfx",
    "outputId": "57b7233b-2074-49e2-edc6-5a4da62e0412"
   },
   "outputs": [
    {
     "name": "stdout",
     "output_type": "stream",
     "text": [
      "Digite o raio de um círculo:  5\n",
      "A área do círculo é 78.5\n"
     ]
    }
   ],
   "source": [
    "pi = 3.14\n",
    "raio  = float(input(\"Digite o raio de um círculo:  \"))\n",
    "area = pi*(raio**2)\n",
    "print('A área do círculo é {}'.format(area)) "
   ]
  },
  {
   "cell_type": "markdown",
   "metadata": {
    "id": "lIlfG-ATzgOr"
   },
   "source": [
    "Crie um algoritmo em Python que calcule a área de um quadrado, em seguida mostre o dobro desta área para o usuário."
   ]
  },
  {
   "cell_type": "code",
   "execution_count": 18,
   "metadata": {
    "colab": {
     "base_uri": "https://localhost:8080/"
    },
    "id": "-y4pB6br0DD_",
    "outputId": "4bc65b1a-3dfb-4fa8-d0d3-449c5e05702e"
   },
   "outputs": [
    {
     "name": "stdout",
     "output_type": "stream",
     "text": [
      "Informe o lado do quadrado: 5\n",
      "A dobro da área é 50.0\n"
     ]
    }
   ],
   "source": [
    "lado = float(input(\"Informe o lado do quadrado: \"))\n",
    "area = lado * lado\n",
    "area_dobro = area * 2\n",
    "print(\"A dobro da área é\", area_dobro)"
   ]
  },
  {
   "cell_type": "markdown",
   "metadata": {
    "id": "Vj4OXsJQziu_"
   },
   "source": [
    "Crie um algoritmo em Python que pergunte quanto você ganha por hora e o número de horas trabalhadas no mês. Calcule e mostre o total do seu salário no referido mês.\n"
   ]
  },
  {
   "cell_type": "code",
   "execution_count": 21,
   "metadata": {
    "colab": {
     "base_uri": "https://localhost:8080/"
    },
    "id": "RmApGpg30D00",
    "outputId": "7235d503-25a8-49fe-f45a-ce94237e7da1"
   },
   "outputs": [
    {
     "name": "stdout",
     "output_type": "stream",
     "text": [
      "Quanto você ganha por hora? R$:10\n",
      "Qual foi o número de horas trabalhadas no mês? 160\n",
      "Você ganha R$ 1600\n"
     ]
    }
   ],
   "source": [
    "hora = int(input(\"Quanto você ganha por hora? R$:\"))\n",
    "mes = int(input(\"Qual foi o número de horas trabalhadas no mês? \"))\n",
    "print(\"Você ganha R$\",(hora*mes))"
   ]
  },
  {
   "cell_type": "markdown",
   "metadata": {
    "id": "e7id8Ewgzlow"
   },
   "source": [
    "Crie um algoritmo em Python que peça a temperatura em graus Farenheit, transforme e mostre a temperatura em graus Celsius.\n",
    "C = (5 * (F-32) / 9)."
   ]
  },
  {
   "cell_type": "code",
   "execution_count": 34,
   "metadata": {
    "colab": {
     "base_uri": "https://localhost:8080/"
    },
    "id": "Kl0ainsv0Eif",
    "outputId": "491ae36a-dc93-4bb1-eb83-a2a7ac1584fe"
   },
   "outputs": [
    {
     "name": "stdout",
     "output_type": "stream",
     "text": [
      "Qual é a temperatura em Farenheit? 36\n",
      "A temperatura em Celsius é 20\n"
     ]
    }
   ],
   "source": [
    "F = int(input(\"Qual é a temperatura em Farenheit? \"))\n",
    "celsius = (5*(F-32)) #FÓRMULA SOLICITADA NO EXERCÍCIO, PORÉM O CERTO É C = (F -32)/1.8\n",
    "print(\"A temperatura em Celsius é {}\".format(celsius))"
   ]
  },
  {
   "cell_type": "markdown",
   "metadata": {
    "id": "mFCgXRPaznno"
   },
   "source": [
    "Crie um algoritmo em Python que peça a temperatura em graus Celsius, transforme e mostre em graus Farenheit."
   ]
  },
  {
   "cell_type": "code",
   "execution_count": 33,
   "metadata": {
    "colab": {
     "base_uri": "https://localhost:8080/"
    },
    "id": "xEAAHRi00FS8",
    "outputId": "27d434c1-402e-428c-ae36-0696bebb8f49"
   },
   "outputs": [
    {
     "name": "stdout",
     "output_type": "stream",
     "text": [
      "Qual é a temperatura em Celsius? 20\n",
      "A temperatura em Farenheit é 36.0\n"
     ]
    }
   ],
   "source": [
    "celsius = int(input(\"Qual é a temperatura em Celsius? \"))\n",
    "F = (celsius/5)+32 #FÓRMULA SOLICITADA NO EXERCÍCIO, PORÉM O CERTO É F = (C × 1. 8) + 32\n",
    "print(\"A temperatura em Farenheit é {}\".format(F))"
   ]
  },
  {
   "cell_type": "markdown",
   "metadata": {
    "id": "j3fdhu-8zqu9"
   },
   "source": [
    "Crie um algoritmo em Python que peça 2 números inteiros e um número real. Calcule e mostre:\n",
    "* a soma do dobro do primeiro com metade do segundo .\n",
    "* a soma do triplo do primeiro com o terceiro.\n",
    "* o terceiro elevado ao cubo."
   ]
  },
  {
   "cell_type": "code",
   "execution_count": 35,
   "metadata": {
    "id": "ZEqZrKjt0F5B"
   },
   "outputs": [],
   "source": [
    "import math\n"
   ]
  },
  {
   "cell_type": "code",
   "execution_count": 46,
   "metadata": {
    "colab": {
     "base_uri": "https://localhost:8080/"
    },
    "id": "Y2rpeTcTL3uL",
    "outputId": "62a42674-ac79-4411-efdc-348582137658"
   },
   "outputs": [
    {
     "name": "stdout",
     "output_type": "stream",
     "text": [
      "Digite o primeiro número:  5\n",
      "Digite o segundo número:  11\n",
      "Digite o número real:  2.5\n",
      "A soma do dobro do primeiro com metade do segundo é 15.5\n",
      "A soma do triplo do primeiro com o terceiro é 17.5\n",
      "O terceiro número elevado ao cubo é 15.625\n"
     ]
    }
   ],
   "source": [
    "n1 = int(input('Digite o primeiro número:  '))\n",
    "n2 = int(input('Digite o segundo número:  '))\n",
    "nReal = float(input('Digite o número real:  '))\n",
    "resultado1 = n1 * 2 + (n2 / 2)          \n",
    "print('A soma do dobro do primeiro com metade do segundo é', resultado1)\n",
    "resultado2 = int(n1*3)+ nReal\n",
    "print('A soma do triplo do primeiro com o terceiro é', resultado2)\n",
    "resultado3 = nReal ** 3\n",
    "print('O terceiro número elevado ao cubo é', resultado3)"
   ]
  }
 ],
 "metadata": {
  "colab": {
   "collapsed_sections": [],
   "name": "Fase1.ipynb",
   "provenance": []
  },
  "kernelspec": {
   "display_name": "Python 3",
   "language": "python",
   "name": "python3"
  },
  "language_info": {
   "codemirror_mode": {
    "name": "ipython",
    "version": 3
   },
   "file_extension": ".py",
   "mimetype": "text/x-python",
   "name": "python",
   "nbconvert_exporter": "python",
   "pygments_lexer": "ipython3",
   "version": "3.8.5"
  }
 },
 "nbformat": 4,
 "nbformat_minor": 1
}
