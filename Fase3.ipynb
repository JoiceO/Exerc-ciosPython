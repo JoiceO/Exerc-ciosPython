{
 "cells": [
  {
   "cell_type": "markdown",
   "metadata": {
    "id": "CYNAmoj4zSXl"
   },
   "source": [
    "Crie um algoritmo em Python que peça uma nota, entre zero e 100. Mostre uma mensagem caso o valor seja inválido e continue pedindo até que o usuário informe um valor válido."
   ]
  },
  {
   "cell_type": "code",
   "execution_count": null,
   "metadata": {
    "colab": {
     "base_uri": "https://localhost:8080/"
    },
    "id": "ViAfpy3GzPN-",
    "outputId": "4010ddc2-2768-4b70-b614-a09f1a61e5cc"
   },
   "outputs": [
    {
     "name": "stdout",
     "output_type": "stream",
     "text": [
      "Informe a nota de 0 a 100: -5\n",
      "Informe a nota de 0 a 100: 100\n"
     ]
    }
   ],
   "source": [
    "nota=float(input(\"Informe a nota de 0 a 100: \"))\n",
    "while (nota>100) or (nota<0):\n",
    "   nota=float(input(\"Informe a nota de 0 a 100: \"))"
   ]
  },
  {
   "cell_type": "markdown",
   "metadata": {
    "id": "gdMis92izSmQ"
   },
   "source": [
    "Crie um algoritmo em Python que leia um nome de usuário e a sua senha e não aceite a senha igual ao nome do usuário, mostrando uma mensagem de erro e voltando a pedir as informações.<br>"
   ]
  },
  {
   "cell_type": "code",
   "execution_count": null,
   "metadata": {
    "colab": {
     "base_uri": "https://localhost:8080/"
    },
    "id": "BFpWkdCBz_zh",
    "outputId": "cd0fb51a-dd2f-45e0-b6d5-775706d90d1a"
   },
   "outputs": [
    {
     "name": "stdout",
     "output_type": "stream",
     "text": [
      "Nome de usuário: joice\n",
      "Senha: joice\n",
      "Digite uma senha diferente do nome de usuário: susu\n",
      "Usuário: joice  e Senha: susu\n"
     ]
    }
   ],
   "source": [
    "usuario = input(\"Nome de usuário: \")\n",
    "senha = input(\"Senha: \")\n",
    "\n",
    "while senha == usuario:\n",
    "\tsenha = input(\"Digite uma senha diferente do nome de usuário: \")\n",
    "\n",
    "print (\"Usuário:\", usuario, \" e Senha:\",senha)"
   ]
  },
  {
   "cell_type": "markdown",
   "metadata": {
    "id": "E_0l_Vx6zSo2"
   },
   "source": [
    "Crie um algoritmo em Python que leia e valide as seguintes informações:\n",
    "* Nome: maior que 3 caracteres;\n",
    "* Idade: entre 0 e 150;\n",
    "* Salário: maior que zero;\n",
    "* Sexo: 'f' ou 'm';\n",
    "* Estado Civil: 's', 'c', 'v', 'd';"
   ]
  },
  {
   "cell_type": "code",
   "execution_count": null,
   "metadata": {
    "colab": {
     "base_uri": "https://localhost:8080/"
    },
    "id": "KwJf7XZS0AZW",
    "outputId": "b5f82df5-422c-497c-e739-e60646c44484"
   },
   "outputs": [
    {
     "name": "stdout",
     "output_type": "stream",
     "text": [
      "Informe um nome: Joice\n",
      "Informe a idade: 31\n",
      "Informe um salário:2021\n",
      "Informe a inicial do seu sexo: f\n",
      "Informe a inicial do seu estado civil, dentre: S, C, V, D: m\n",
      "Informe a inicial do seu estado civil, dentre: S, C, V, D: m\n",
      "Informe a inicial do seu estado civil, dentre: S, C, V, D: c\n",
      "Informe a inicial do seu estado civil, dentre: S, C, V, D: C\n"
     ]
    }
   ],
   "source": [
    "nome=str(input(\"Informe um nome: \"))\n",
    "while ( len(nome) <=  3 ):\n",
    "\tnome=str(input(\"Informe um nome: \"))\n",
    "\n",
    "idade=int(input(\"Informe a idade: \"))\n",
    "while ( idade > 150 or idade < 0 ):\n",
    "\tidade=int(input(\"Informe a idade: \"))\n",
    "\t\n",
    "salario=float(input(\"Informe um salário:\"))\n",
    "while ( salario < 0 ):\n",
    "\tsalario=float(input(\"Informe um salário: \"))\n",
    "\n",
    "sexo=str(input(\"Informe a inicial do seu sexo: \"))\n",
    "while  sexo !=\"f\" and sexo!=\"m\" :\n",
    "\tsexo=str(input(\"Informe a inicial do seu sexo: \"))\n",
    "\t\n",
    "estado_civil=str(input(\"Informe a inicial do seu estado civil, dentre: S, C, V, D: \"))\n",
    "while ( estado_civil != \"S\" and estado_civil != \"C\" and estado_civil != \"V\" and estado_civil != \"D\" ):\n",
    "\testado_civil=str(input(\"Informe a inicial do seu estado civil, dentre: S, C, V, D: \"))"
   ]
  },
  {
   "cell_type": "markdown",
   "metadata": {
    "id": "1i4VCiiczSrL"
   },
   "source": [
    "Supondo que a população de um país A seja da ordem de 80000 habitantes com uma taxa anual de crescimento de 3% e que a população de B seja 200000 habitantes com uma taxa de crescimento de 1.5%.<br><br> Crie um algoritmo em Python que calcule e escreva o número de anos necessários para que a população do país A ultrapasse ou iguale a população do país B, mantidas as taxas de crescimento."
   ]
  },
  {
   "cell_type": "code",
   "execution_count": null,
   "metadata": {
    "colab": {
     "base_uri": "https://localhost:8080/"
    },
    "id": "yoW67hjA0BHy",
    "outputId": "86b01d42-16b7-455e-d279-4b43512d5cbc"
   },
   "outputs": [
    {
     "name": "stdout",
     "output_type": "stream",
     "text": [
      "Após 63 anos o país A ultrapassará o país B em número de habitantes.\n",
      "País A: 515033\n",
      "País B: 510964\n"
     ]
    }
   ],
   "source": [
    "popA, popB, anos = 80000, 200000, 0\n",
    "crescimentoA, crescimentoB = 0.03, 0.015 \n",
    "while (popA < popB):\n",
    " anos += 1\n",
    " popA = popA + (popA * crescimentoA)\n",
    " popB = popB + (popB * crescimentoB)\n",
    "print(\"Após %i anos o país A ultrapassará o país B em número de habitantes.\" % anos)\n",
    "print(\"País A: %.0f\" % popA)\n",
    "print(\"País B: %.0f\" % popB)"
   ]
  },
  {
   "cell_type": "markdown",
   "metadata": {
    "id": "4ep7kezvzStO"
   },
   "source": [
    "Desenvolva um gerador de tabuada, capaz de gerar a tabuada de qualquer número inteiro entre 1 a 10. O usuário deve informar de qual numero ele deseja ver a tabuada. A saída deve ser conforme o exemplo abaixo:\n",
    "Tabuada de 5:<br>\n",
    "5 X 1 = 5<br>\n",
    "5 X 2 = 10<br>\n",
    "...<br>\n",
    "5 X 10 = 50<br>"
   ]
  },
  {
   "cell_type": "code",
   "execution_count": null,
   "metadata": {
    "colab": {
     "base_uri": "https://localhost:8080/"
    },
    "id": "6K6IHWdr0Blt",
    "outputId": "02c1a06a-6143-4bc6-803c-11b726f13526"
   },
   "outputs": [
    {
     "name": "stdout",
     "output_type": "stream",
     "text": [
      "Digite um número de 1 a 10 para saber a sua tabuada.\n",
      "8\n",
      " Tabuada do  8\n",
      "8  X  1  =  8\n",
      "8  X  2  =  16\n",
      "8  X  3  =  24\n",
      "8  X  4  =  32\n",
      "8  X  5  =  40\n",
      "8  X  6  =  48\n",
      "8  X  7  =  56\n",
      "8  X  8  =  64\n",
      "8  X  9  =  72\n",
      "8  X  10  =  80\n"
     ]
    }
   ],
   "source": [
    "numero=int(input(\"Digite um número de 1 a 10 para saber a sua tabuada.\\n\"))\n",
    "print(\" Tabuada do \",numero)\n",
    "for i in range(1,11):\n",
    " print(numero,\" X \",i,\" = \",numero*i)"
   ]
  },
  {
   "cell_type": "markdown",
   "metadata": {
    "id": "u6__NaXqzeYg"
   },
   "source": [
    "Crie um algoritmo em Python que leia três números e mostre o maior e o menor deles."
   ]
  },
  {
   "cell_type": "code",
   "execution_count": null,
   "metadata": {
    "colab": {
     "base_uri": "https://localhost:8080/"
    },
    "id": "mm2L7g3x0Cfx",
    "outputId": "b4e5b219-3dfc-417a-92c7-eceda090ffa1"
   },
   "outputs": [
    {
     "name": "stdout",
     "output_type": "stream",
     "text": [
      "Digite o primeiro número: 1\n",
      "Digite o segundo número: 10\n",
      "Digite o terceiro número: 11\n",
      "Maior:  11\n",
      "Menor:  1\n"
     ]
    }
   ],
   "source": [
    "n1 = input('Digite o primeiro número: ')\n",
    "n2 = input('Digite o segundo número: ')\n",
    "n3 = input('Digite o terceiro número: ')\n",
    "\n",
    "\n",
    "maior = n1\n",
    "if (n2 > maior):\n",
    "  maior = n2\n",
    "if (n3 > maior):\n",
    "  maior = n3\n",
    "\n",
    "maior = n1\n",
    "if (n2 > maior):\n",
    "  maior = n2\n",
    "if (n3 > maior):\n",
    "  maior = n3\n",
    "print('Maior: ',maior)\n",
    "\n",
    "menor = n1\n",
    "if (n2 < menor):\n",
    "  menor = n2\n",
    "if (n3 < menor):\n",
    " menor = n3\n",
    "print('Menor: ',menor)"
   ]
  },
  {
   "cell_type": "markdown",
   "metadata": {
    "id": "lIlfG-ATzgOr"
   },
   "source": [
    "Crie um algoritmo em Python que peça 2 números, base e expoente, calcule e mostre o primeiro número elevado ao segundo número. Não utilize a função de potência da linguagem."
   ]
  },
  {
   "cell_type": "code",
   "execution_count": 31,
   "metadata": {
    "colab": {
     "base_uri": "https://localhost:8080/"
    },
    "id": "-y4pB6br0DD_",
    "outputId": "985c3d98-14fe-4764-ef96-16bec860c1b6"
   },
   "outputs": [
    {
     "name": "stdout",
     "output_type": "stream",
     "text": [
      "Base: 2\n",
      "Expoente: 3\n",
      "base ^ expoente:\n",
      "2 elevado a  3 = 8\n"
     ]
    }
   ],
   "source": [
    "base=int(input(\"Base: \"))\n",
    "expoente=int(input(\"Expoente: \"))\n",
    "print(\"base ^ expoente:\")\n",
    "\n",
    "potencia=1\n",
    "for count in range(expoente):\n",
    "    potencia *= base\n",
    "    count += 1\n",
    "\n",
    "print(base,\"elevado a \",expoente,\"=\",potencia)"
   ]
  },
  {
   "cell_type": "markdown",
   "metadata": {
    "id": "Vj4OXsJQziu_"
   },
   "source": [
    "Crie um algoritmo em Python que peça 10 números inteiros, calcule e mostre a quantidade de números pares e a quantidade de números impares."
   ]
  },
  {
   "cell_type": "code",
   "execution_count": 13,
   "metadata": {
    "colab": {
     "base_uri": "https://localhost:8080/"
    },
    "id": "RmApGpg30D00",
    "outputId": "2dca9796-9170-4737-943b-cf8685404085"
   },
   "outputs": [
    {
     "name": "stdout",
     "output_type": "stream",
     "text": [
      "Digite um número inteiro:1\n",
      "Digite um número inteiro:2\n",
      "Digite um número inteiro:3\n",
      "Digite um número inteiro:4\n",
      "Digite um número inteiro:5\n",
      "Digite um número inteiro:6\n",
      "Digite um número inteiro:7\n",
      "Digite um número inteiro:8\n",
      "Digite um número inteiro:9\n",
      "Digite um número inteiro:10\n",
      "A quantidade de valores pares e impares são, respectivamente: (5, 5)\n"
     ]
    }
   ],
   "source": [
    "def contaPares(lista):\n",
    "    par = 0\n",
    "    impar = 0\n",
    "    for numero in lista:\n",
    "        if (numero % 2) == 0:\n",
    "            par = par + 1\n",
    "        else:\n",
    "            impar = impar + 1\n",
    "    return par, impar\n",
    "\n",
    "lista = list()\n",
    "for c in range(1,11):\n",
    "    numero = int(input('Digite um número inteiro:'))\n",
    "    lista.append(numero)\n",
    "\n",
    "print('A quantidade de valores pares e impares são, respectivamente:',contaPares(lista))\n"
   ]
  },
  {
   "cell_type": "markdown",
   "metadata": {
    "id": "e7id8Ewgzlow"
   },
   "source": [
    "Um funcionário de uma empresa recebe aumento salarial anualmente: Sabe-se que:\n",
    "Esse funcionário foi contratado em 1995, com salário inicial de R$ 1.000,00;\n",
    "Em 1996 recebeu aumento de 1,5% sobre seu salário inicial;\n",
    "A partir de 1997 (inclusive), os aumentos salariais sempre correspondem ao dobro do percentual do ano anterior. Crie um algoritmo em Python que determine o salário atual desse funcionário. Após concluir isto, altere o programa permitindo que o usuário digite o salário inicial do funcionário."
   ]
  },
  {
   "cell_type": "code",
   "execution_count": 25,
   "metadata": {},
   "outputs": [
    {
     "name": "stdout",
     "output_type": "stream",
     "text": [
      "O salário atual é de: R$ 1450.95\n"
     ]
    }
   ],
   "source": [
    "salario = 1000.00\n",
    "ano = 1996\n",
    "while ano <= 2020:\n",
    "    salario *= 1.015\n",
    "    ano += 1\n",
    "print('O salário atual é de: R$',\"{0:.2f}\".format(salario, 2))"
   ]
  },
  {
   "cell_type": "code",
   "execution_count": 28,
   "metadata": {},
   "outputs": [
    {
     "name": "stdout",
     "output_type": "stream",
     "text": [
      "Digite o salário inicial: R$1000\n",
      "O salário atual é de: R$ 1450.95\n"
     ]
    }
   ],
   "source": [
    "salario = float(input('Digite o salário inicial: R$'))\n",
    "ano = 1996\n",
    "while ano <= 2020:\n",
    "    salario *= 1.015\n",
    "    ano += 1\n",
    "print('O salário atual é de: R$',\"{0:.2f}\".format(salario, 2))"
   ]
  },
  {
   "cell_type": "markdown",
   "metadata": {
    "id": "5u9i4kzm-itX"
   },
   "source": [
    "Crie um algoritmo em Python com uma função que necessite de um argumento. A função retorna o valor de caractere ‘P’, se seu argumento for positivo, e ‘N’, se seu argumento for zero ou negativo."
   ]
  },
  {
   "cell_type": "code",
   "execution_count": 62,
   "metadata": {
    "colab": {
     "base_uri": "https://localhost:8080/"
    },
    "id": "WNt8CLa2-rGt",
    "outputId": "46c1a74c-f550-4ddd-d942-46cc9c265929"
   },
   "outputs": [
    {
     "name": "stdout",
     "output_type": "stream",
     "text": [
      "Digite um número:-3\n",
      "N\n"
     ]
    }
   ],
   "source": [
    "x = input('Digite um número:')\n",
    "x = int(x)\n",
    "\n",
    "if x <= 0 : \n",
    "  print(\"N\")\n",
    "else:\n",
    "  print(\"P\")\n"
   ]
  },
  {
   "cell_type": "markdown",
   "metadata": {
    "id": "AzUYbZ8A-zj7"
   },
   "source": [
    "Crie uma classe que modele uma pessoa:<br>\n",
    "\n",
    "Atributos: nome, idade, peso e altura<br>\n",
    "Métodos: Envelhercer, engordar, emagrecer, crescer.<br>\n",
    "<br>Obs: Por padrão, a cada ano que nossa pessoa envelhece, sendo a idade dela menor que 21 anos, ela deve crescer 0,5 cm."
   ]
  },
  {
   "cell_type": "code",
   "execution_count": 122,
   "metadata": {
    "colab": {
     "base_uri": "https://localhost:8080/"
    },
    "id": "qobhV-FC-zRS",
    "outputId": "68fbf0c6-729d-463b-f37e-a66e4362b3bd"
   },
   "outputs": [
    {
     "name": "stdout",
     "output_type": "stream",
     "text": [
      "Nome: Suelen, idade: 20 anos, peso: 70kg, altura: 170cm\n",
      "Nome: Suelen, idade: 21 anos, peso: 65kg, altura: 170.5cm\n"
     ]
    }
   ],
   "source": [
    "class Pessoa:\n",
    "    def __init__(self, nome: str, idade: int, peso: float, altura: float):\n",
    "        self.nome = nome\n",
    "        self.idade = idade\n",
    "        self.peso = peso\n",
    "        self.altura = altura\n",
    "\n",
    "    def envelhecer(self):\n",
    "        if self.idade < 21:\n",
    "            self.altura += 0.5\n",
    "        self.idade += 1\n",
    "\n",
    "    def engordar(self, peso):\n",
    "        self.peso += peso\n",
    "\n",
    "    def emagrecer(self, peso):\n",
    "        self.peso -= peso\n",
    "\n",
    "    def crescer(self, altura):\n",
    "        self.altura += altura\n",
    "\n",
    "\n",
    "    def mostraPessoa(self):\n",
    "        print(f'Nome: {self.nome}, idade: {self.idade} anos, peso: {self.peso}kg, altura: {self.altura}cm')\n",
    "\n",
    "\n",
    "Suelen = Pessoa('Suelen', 20, 70, 170)\n",
    "Suelen.mostraPessoa()\n",
    "Suelen.envelhecer()\n",
    "Suelen.emagrecer(5)\n",
    "Suelen.mostraPessoa()"
   ]
  }
 ],
 "metadata": {
  "colab": {
   "collapsed_sections": [],
   "name": "Fase3.ipynb",
   "provenance": []
  },
  "kernelspec": {
   "display_name": "Python 3",
   "language": "python",
   "name": "python3"
  },
  "language_info": {
   "codemirror_mode": {
    "name": "ipython",
    "version": 3
   },
   "file_extension": ".py",
   "mimetype": "text/x-python",
   "name": "python",
   "nbconvert_exporter": "python",
   "pygments_lexer": "ipython3",
   "version": "3.8.5"
  }
 },
 "nbformat": 4,
 "nbformat_minor": 1
}
