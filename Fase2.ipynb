{
 "cells": [
  {
   "cell_type": "markdown",
   "metadata": {
    "id": "CYNAmoj4zSXl"
   },
   "source": [
    "Crie um algoritmo em Python que peça 2 números e imprima o maior deles."
   ]
  },
  {
   "cell_type": "code",
   "execution_count": 3,
   "metadata": {
    "colab": {
     "base_uri": "https://localhost:8080/"
    },
    "id": "ViAfpy3GzPN-",
    "outputId": "9336cee7-fe9d-4f8b-d331-6d0d068efa11"
   },
   "outputs": [
    {
     "name": "stdout",
     "output_type": "stream",
     "text": [
      "Digite o primeiro número: 5\n",
      "Digite o segundo número: 3\n",
      "O maior número é 5\n"
     ]
    }
   ],
   "source": [
    "numero1 = int (input('Digite o primeiro número: '))\n",
    "numero2 = int(input('Digite o segundo número: '))\n",
    "if numero1 > numero2:\n",
    "    print('O maior número é', numero1)\n",
    "else:\n",
    "    print('O maior número é', numero2) "
   ]
  },
  {
   "cell_type": "markdown",
   "metadata": {
    "id": "gdMis92izSmQ"
   },
   "source": [
    "Crie um algoritmo em Python que peça um valor e mostre na tela se o valor é positivo ou negativo."
   ]
  },
  {
   "cell_type": "code",
   "execution_count": 6,
   "metadata": {
    "colab": {
     "base_uri": "https://localhost:8080/"
    },
    "id": "BFpWkdCBz_zh",
    "outputId": "ffbb2449-a083-4e47-dded-3ab51850d2d6"
   },
   "outputs": [
    {
     "name": "stdout",
     "output_type": "stream",
     "text": [
      "Digite um número: 12\n",
      "O valor digitado é positivo!\n"
     ]
    }
   ],
   "source": [
    "n = int(input(\"Digite um número: \"))\n",
    "if(n < 0):\n",
    "  print(\"O valor digitado é negativo!\")\n",
    "else:\n",
    "  print(\"O valor digitado é positivo!\")"
   ]
  },
  {
   "cell_type": "markdown",
   "metadata": {
    "id": "E_0l_Vx6zSo2"
   },
   "source": [
    "Crie um algoritmo em Python que verifique se uma letra digitada é vogal ou consoante."
   ]
  },
  {
   "cell_type": "code",
   "execution_count": 15,
   "metadata": {
    "colab": {
     "base_uri": "https://localhost:8080/"
    },
    "id": "KwJf7XZS0AZW",
    "outputId": "6208f8f2-34f6-43be-fda3-ba7b5dda97b2"
   },
   "outputs": [
    {
     "name": "stdout",
     "output_type": "stream",
     "text": [
      "Digite uma letra: c\n",
      "É uma consoante\n"
     ]
    }
   ],
   "source": [
    "letra = str(input(\"Digite uma letra: \"))\n",
    "if letra=='a' or letra=='e' or letra=='i' or letra=='o' or letra=='u' or letra=='A' or letra=='E' or letra=='I' or letra=='O' or letra=='U':\n",
    "           print('É uma vogal')\n",
    "else:\n",
    "           print('É uma consoante')"
   ]
  },
  {
   "cell_type": "markdown",
   "metadata": {
    "id": "1i4VCiiczSrL"
   },
   "source": [
    "Faça um programa para a leitura de duas notas parciais de um aluno. O programa deve calcular a média alcançada por aluno e apresentar:\n",
    "* \"Aprovado\", se a média alcançada for maior ou igual a sete;\n",
    "* \"Reprovado\", se a média for menor do que sete;\n",
    "* \"Aprovado com Distinção\", se a média for igual a 10."
   ]
  },
  {
   "cell_type": "code",
   "execution_count": 25,
   "metadata": {
    "colab": {
     "base_uri": "https://localhost:8080/"
    },
    "id": "yoW67hjA0BHy",
    "outputId": "12f1fb3b-2f5e-41fc-9486-5e57027fc9a2"
   },
   "outputs": [
    {
     "name": "stdout",
     "output_type": "stream",
     "text": [
      "Digite a 1ª nota: 5\n",
      "Digite a 2ª nota: 6\n",
      "Reprovado\n"
     ]
    }
   ],
   "source": [
    "nota1 = int(input('Digite a 1ª nota: '))\n",
    "nota2 = int(input('Digite a 2ª nota: '))\n",
    "media = (nota1+nota2)/2\n",
    "if media >= 7 and media < 10:\n",
    " print('Aprovado')\n",
    "elif media >= 10:\n",
    " print('Aprovado com distinção')\n",
    "else:\n",
    " print('Reprovado')"
   ]
  },
  {
   "cell_type": "markdown",
   "metadata": {
    "id": "4ep7kezvzStO"
   },
   "source": [
    "Crie um algoritmo em Python que leia três números e mostre o maior deles."
   ]
  },
  {
   "cell_type": "code",
   "execution_count": 39,
   "metadata": {
    "colab": {
     "base_uri": "https://localhost:8080/"
    },
    "id": "6K6IHWdr0Blt",
    "outputId": "f7f0b314-296b-436b-b612-1cd2b39b721a"
   },
   "outputs": [
    {
     "name": "stdout",
     "output_type": "stream",
     "text": [
      "Digite o primeiro número: 2\n",
      "Digite o segundo número: 10\n",
      "Digite o terceiro número: 8\n",
      "Maior é: 10\n"
     ]
    }
   ],
   "source": [
    "numero1 = int(input('Digite o primeiro número: '))\n",
    "numero2 = int(input('Digite o segundo número: '))\n",
    "numero3 = int(input('Digite o terceiro número: '))\n",
    "\n",
    "maior = numero1\n",
    "if (numero2 > maior):\n",
    "  maior = numero2\n",
    "if (numero3 > maior):\n",
    "  maior = numero3\n",
    "print('Maior é:',maior)"
   ]
  },
  {
   "cell_type": "markdown",
   "metadata": {
    "id": "u6__NaXqzeYg"
   },
   "source": [
    "Crie um algoritmo em Python que leia três números e mostre o maior e o menor deles."
   ]
  },
  {
   "cell_type": "code",
   "execution_count": 36,
   "metadata": {
    "colab": {
     "base_uri": "https://localhost:8080/"
    },
    "id": "mm2L7g3x0Cfx",
    "outputId": "ce4c18e4-f723-48bf-e944-2299411a66d5"
   },
   "outputs": [
    {
     "name": "stdout",
     "output_type": "stream",
     "text": [
      "Primeiro número: 10\n",
      "Segundo número : 4\n",
      "Terceiro número: 2\n",
      "Maior:  10\n",
      "Menor:  2\n"
     ]
    }
   ],
   "source": [
    "primeiro = int(input('Primeiro número: '))\n",
    "segundo  = int(input('Segundo número : '))\n",
    "terceiro = int(input('Terceiro número: '))\n",
    "\n",
    "maior = primeiro\n",
    "if (segundo > maior):\n",
    "  maior = segundo\n",
    "if (terceiro > maior):\n",
    "  maior = terceiro\n",
    "print('Maior: ',maior)\n",
    "\n",
    "menor = primeiro\n",
    "if (segundo < menor):\n",
    "  menor = segundo\n",
    "if (terceiro < menor):\n",
    " menor = terceiro\n",
    "print('Menor: ',menor)"
   ]
  },
  {
   "cell_type": "markdown",
   "metadata": {
    "id": "lIlfG-ATzgOr"
   },
   "source": [
    "Faça um programa que pergunte o preço de 5 produtos e informe qual produto você deve comprar, sabendo que a decisão é sempre pelo mais barato."
   ]
  },
  {
   "cell_type": "code",
   "execution_count": 15,
   "metadata": {
    "colab": {
     "base_uri": "https://localhost:8080/"
    },
    "id": "-y4pB6br0DD_",
    "outputId": "2bb1ded8-0c36-4606-e1ec-72da1383764a"
   },
   "outputs": [
    {
     "name": "stdout",
     "output_type": "stream",
     "text": [
      "Digite o 1° preço: 10\n",
      "Digite o 2° preço: 5\n",
      "Digite o 3° preço: 3\n",
      "Digite o 4° preço: 40\n",
      "Digite o 5° preço: 1\n",
      "Compre o produto 5\n"
     ]
    }
   ],
   "source": [
    "p1 = input(\"Digite o 1° preço: \")\n",
    "p2 = input(\"Digite o 2° preço: \")\n",
    "p3 = input(\"Digite o 3° preço: \")\n",
    "p4 = input(\"Digite o 4° preço: \")\n",
    "p5 = input(\"Digite o 5° preço: \")\n",
    "     \n",
    "if p1 < p2 and p1 < p3 and p1 < p4 and p1 < p5:\n",
    "    print('Compre o produto 1')\n",
    "elif p2 < p1 and p2 < p3 and p2 < p4 and p2 < p5:\n",
    "    print('Compre o produto 2')\n",
    "elif p3 < p1 and p3 < p2 and p3 < p4 and p3 < p5:\n",
    "    print('Compre o produto 3')\n",
    "elif p4 < p1 and p4 < p2 and p4  <p3 and p4 < p5:\n",
    "    print('Compre o produto 4')\n",
    "elif p5 < p1 and p5 < p2 and p5 < p3 and p5 < p4:\n",
    "    print('Compre o produto 5')"
   ]
  },
  {
   "cell_type": "markdown",
   "metadata": {
    "id": "Vj4OXsJQziu_"
   },
   "source": [
    "Crie um algoritmo em Python que leia três números e mostre-os em ordem decrescente."
   ]
  },
  {
   "cell_type": "code",
   "execution_count": 16,
   "metadata": {
    "colab": {
     "base_uri": "https://localhost:8080/"
    },
    "id": "RmApGpg30D00",
    "outputId": "89d3af0d-f5b5-4395-8f5c-7bcdbfabdc46"
   },
   "outputs": [
    {
     "name": "stdout",
     "output_type": "stream",
     "text": [
      "Digite um número: 3\n",
      "Digite um número: 1\n",
      "Digite um número: 15\n",
      "[15, 3, 1]\n"
     ]
    }
   ],
   "source": [
    "lista = []\n",
    "qtd = 3\n",
    "for numero in range(qtd):\n",
    "    elemento = int(input('Digite um número: '))\n",
    "    lista.append(elemento)\n",
    "\n",
    "lista.sort(reverse = True) \n",
    "print(lista)"
   ]
  },
  {
   "cell_type": "markdown",
   "metadata": {
    "id": "e7id8Ewgzlow"
   },
   "source": [
    "As Organizações Mendéz resolveram dar um aumento de salário aos seus colaboradores e lhe contraram para desenvolver o programa que calculará os reajustes em Python. Faça um programa que receba o salário de um colaborador e o reajuste segundo o seguinte critério, baseado no salário atual:\n",
    "\n",
    "* salários entre 680,00 e 800,00 : aumento de 15%<br>\n",
    "* salários entre 800,00 e 2500,00 : aumento de 10%<br>\n",
    "* salários de 2500,00 em diante : aumento de 5% após o aumento ser realizado.\n",
    "\n",
    "Informe na tela:\n",
    "* o salário antes do reajuste;\n",
    "* o percentual de aumento aplicado;\n",
    "* o valor do aumento;\n",
    "* o novo salário, após o aumento."
   ]
  },
  {
   "cell_type": "code",
   "execution_count": 24,
   "metadata": {
    "colab": {
     "base_uri": "https://localhost:8080/"
    },
    "id": "Kl0ainsv0Eif",
    "outputId": "33474912-a16b-464f-d08d-2c90a414727e"
   },
   "outputs": [
    {
     "name": "stdout",
     "output_type": "stream",
     "text": [
      "Salário do trabalhador: 2320\n",
      "Salário original: R$ 2320.0\n",
      "Percentual de aumento aplicado:  10 %\n",
      "Aumento de: R$ 232.0\n",
      "Novo salário, após o aumento: R$ 2552.0\n"
     ]
    }
   ],
   "source": [
    " salario = float(input('Salário do trabalhador: '))\n",
    "\n",
    "if (salario >= 680 and salario < 800):\n",
    "        percentual = 15\n",
    "elif (salario >=800 and salario < 2500):\n",
    "        percentual = 10\n",
    "else:\n",
    "        percentual = 5\n",
    "print('Salário original: R$', salario)\n",
    "print('Percentual de aumento aplicado: ',percentual,'%')\n",
    "\n",
    "percentual = percentual/100.0\n",
    "aumento = percentual * salario\n",
    "novo_salario = salario + aumento\n",
    "print('Aumento de: R$',aumento)\n",
    "print('Novo salário, após o aumento: R$', novo_salario)"
   ]
  }
 ],
 "metadata": {
  "colab": {
   "collapsed_sections": [],
   "name": "Fase2.ipynb",
   "provenance": []
  },
  "kernelspec": {
   "display_name": "Python 3",
   "language": "python",
   "name": "python3"
  },
  "language_info": {
   "codemirror_mode": {
    "name": "ipython",
    "version": 3
   },
   "file_extension": ".py",
   "mimetype": "text/x-python",
   "name": "python",
   "nbconvert_exporter": "python",
   "pygments_lexer": "ipython3",
   "version": "3.8.5"
  }
 },
 "nbformat": 4,
 "nbformat_minor": 1
}
